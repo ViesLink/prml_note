{
 "cells": [
  {
   "cell_type": "code",
   "execution_count": 1,
   "metadata": {
    "ExecuteTime": {
     "end_time": "2020-04-18T16:32:54.251583Z",
     "start_time": "2020-04-18T16:32:53.508297Z"
    }
   },
   "outputs": [],
   "source": [
    "import numpy as np\n",
    "import matplotlib.pyplot as plt\n",
    "import matplotlib\n",
    "import pandas as pd\n",
    "import random\n",
    "import copy\n",
    "from sklearn.metrics import accuracy_score\n",
    "from sklearn.metrics import roc_auc_score\n",
    "from sklearn.model_selection import train_test_split\n",
    "from sklearn.preprocessing import StandardScaler\n",
    "from sklearn.preprocessing import MinMaxScaler\n",
    "from sklearn import datasets"
   ]
  },
  {
   "cell_type": "markdown",
   "metadata": {},
   "source": [
    "### 委员会\n",
    "也就是我们常说的bagging方法，它的存在主要是为了降低模型方差。首先，我们选择一个(或多个)基础算法作为基学习器，为了让这些基学习器学习到不同的知识，我们用不同的采样方法采样出不同的训练集来训练多个基学习器模型。最终的模型预测输出为$ y = \\frac{1}{M}\\sum_{m=1}^Mf(x) $，单个学习器的方差，因为是从原始分布中采样，为$ E(loss^2(x)) $。而使用了集成后的方差应为$ \\frac{1}{M}E(loss^2(x)) $。至于偏差，我们不认为bagging会改变基学习器的偏差，因为数据分布和学习器算法性能都没有得到提升。 \n",
    "常用的bagging算法是随机森林。在实践中我们会看到，在使用高随机度决策树时形成委员会时，决策树的表现一般要好过单棵决策树很多，RF也是今天深度学习时代仍然排得上号的优秀数据挖掘算法。  \n",
    "**如果你不熟悉决策树，可以参考附件的资料DT paper**"
   ]
  },
  {
   "cell_type": "markdown",
   "metadata": {},
   "source": [
    "### 决策树的连续特征\n",
    "纯离散特征的问题，用单棵决策树加一些技巧就可以很好处理。如果涉及连续型特征，单棵决策树很有可能产生偏激的划分方法，但是如果用多棵树组成森林，就能一定程度上避免这个弊端。  \n",
    "连续特征的处理技巧在paper里介绍了，C4.5使用的朴素划分方法是遍历所有可能的划分点，选择最好的点进行二分。这个方法看起来跑得就很慢，每次这个操作时，首先我们要排序N大小的数据，然后扫描一遍计算信息增益，而且要对所有属性都做相同的事情。而且这个操作要执行树的深度那么多次。我们一般认为这个算法的复杂度达到O(nlogn x n x a x logn)，所以连续特征很多的时候尽量避免用C4.5，用神经网络说不定都能更快一点。  "
   ]
  },
  {
   "cell_type": "markdown",
   "metadata": {},
   "source": [
    "### 实战\n",
    "Sklearn的toy datasets都是连续特征为主，不是很适合训练决策树。我在Github上随便找了一个离散属性为主的数据集，名叫mushrooms。包括对应于姬松茸和Lepiota家族中23种蘑菇的假设样品的描述。 每个物种都被确定为绝对可食用，绝对有毒，或具有未知的可食性，不推荐使用。 后一类与有毒类相结合。属性都为离散属性，包括蘑菇盖、蘑菇茎、gill、veil等等特征。我们希望建立决策树(森林)来实现判别蘑菇是不是有毒的分类器。"
   ]
  },
  {
   "cell_type": "code",
   "execution_count": 2,
   "metadata": {
    "ExecuteTime": {
     "end_time": "2020-04-18T16:32:55.340662Z",
     "start_time": "2020-04-18T16:32:55.309047Z"
    }
   },
   "outputs": [],
   "source": [
    "data =pd.read_csv('mushrooms.csv')\n",
    "y=data['class']\n",
    "X=data.drop('class',axis=1)\n",
    "# 分割50%的训练集\n",
    "X_train,X_test,y_train,y_test = train_test_split(X,y,train_size=0.05,random_state = 1)\n",
    "columns=X_train.columns\n",
    "# 转numpy\n",
    "X_train,y_train = X_train.values,y_train.values\n",
    "X_test,y_test = X_test.values,y_test.values"
   ]
  },
  {
   "cell_type": "code",
   "execution_count": 3,
   "metadata": {
    "ExecuteTime": {
     "end_time": "2020-04-18T16:32:55.867252Z",
     "start_time": "2020-04-18T16:32:55.825137Z"
    }
   },
   "outputs": [],
   "source": [
    "from math import log\n",
    "from collections import Counter\n",
    "\n",
    "def Information_entropy(labels):\n",
    "    '''\n",
    "    根据类别集合计算信息熵以划分决策树\n",
    "    labels: numpy array, shape = (n,)\n",
    "    return: double, information entropy\n",
    "    '''\n",
    "    cnt = Counter(labels) # 计数各种特征的个数\n",
    "    total = len(labels)\n",
    "    ret = 0\n",
    "    for key in cnt:\n",
    "        p = (cnt[key]+1)/(total+1)\n",
    "        ret -= p*log(p,2)\n",
    "    return ret\n",
    "\n",
    "\n",
    "def divide(data,a):\n",
    "    '''\n",
    "    用a-attribution来分类data\n",
    "    a: int32, column indice of data\n",
    "    return: dict{feature name : list(sub data indices)}\n",
    "    '''\n",
    "    ret = {}\n",
    "    for i in range(len(data)):\n",
    "        fnm = data[i][a]\n",
    "        if not ret.get(fnm):\n",
    "            ret[fnm] = []\n",
    "        ret[fnm].append(i)\n",
    "    return ret\n",
    "\n",
    "\n",
    "def Gain_ratio(data, labels, a):\n",
    "    '''\n",
    "    计算信息增益率，基于信息熵进行\n",
    "    '''\n",
    "    gain = Information_entropy(labels) # 计算IE\n",
    "    total = len(data)\n",
    "    IV = 0.01\n",
    "    indices_list = divide(data,a) # 根据a划分数据集\n",
    "    for fnm,indice in indices_list.items():\n",
    "        data_cd = data[indice]\n",
    "        labels_cd = labels[indice]\n",
    "        gain -= len(data_cd)/total*Information_entropy(labels_cd)\n",
    "        IV -= len(data_cd)/total * log(len(data_cd)/total,2)\n",
    "    return gain/IV,indices_list"
   ]
  },
  {
   "cell_type": "code",
   "execution_count": 4,
   "metadata": {
    "ExecuteTime": {
     "end_time": "2020-04-18T16:32:56.507738Z",
     "start_time": "2020-04-18T16:32:56.342216Z"
    }
   },
   "outputs": [],
   "source": [
    "#简单实现一下只用于离散特征的C4.5 决策树，引入随机的特征筛选功能\n",
    "class TreeNode:\n",
    "    def __init__(self):\n",
    "        self.node = \"leaf\"#分leaf和root\n",
    "        self.type = None #结点属于的分类\n",
    "        self.clue = None #划分判据,为data的列下标\n",
    "        self.dict = {}    #子结点索引字典\n",
    "        \n",
    "    def grow(self, data, labels, A, random_rate = 0.5):\n",
    "        cnt = Counter(labels)\n",
    "        self.type = max(cnt,key = lambda key:cnt[key])\n",
    "        # 全都属于一个类别，结束生长\n",
    "        if len(cnt)==1:\n",
    "            return\n",
    "        # 没有剩余的可供划分的特征了，结束生长\n",
    "        if len(A)==0:\n",
    "            return\n",
    "        \n",
    "        abest = 0\n",
    "        gainbest = -float(\"inf\")\n",
    "        indice_best = None\n",
    "        k = max(round(len(A)*random_rate),1) # 筛选掉一部分特征\n",
    "        waitlist = random.sample(A,k=k)\n",
    "        for a in waitlist:\n",
    "            gain,indice_list = Gain_ratio(data,labels,a)\n",
    "            if gain>gainbest:\n",
    "                gainbest = gain\n",
    "                abest = a\n",
    "                indice_best = indice_list\n",
    "        \n",
    "        # 找到了最好的划分特征abest和划分方法indice_list\n",
    "        New_A = A.copy()\n",
    "        New_A.remove(abest)\n",
    "        \n",
    "        self.clue = abest\n",
    "        \n",
    "        self.node = \"root\"\n",
    "        for fnm,indice in indice_best.items():\n",
    "            child = TreeNode()\n",
    "            child.type = self.type\n",
    "            data_cd,labels_cd = data[indice],labels[indice]\n",
    "            child.grow(data_cd,labels_cd,New_A)\n",
    "            self.dict[fnm] = child\n",
    "        return\n",
    "    \n",
    "    def prune(self, root, data, labels):\n",
    "        '''\n",
    "        这里的data和labels使用不同于grow时的验证集\n",
    "        对当前self结点，尝试删除它的子结点(把self换成叶结点)\n",
    "        看一看精度是否提升，如果有提升则我们真正剪掉它\n",
    "        '''\n",
    "        if self.node==\"leaf\":\n",
    "            return\n",
    "        for key,node in self.dict.items():\n",
    "            node.prune(root, data, labels)\n",
    "        y_pred = np.array([root.predict(x) for x in data])\n",
    "        old_score = accuracy_score(y_pred, labels)\n",
    "        self.node = \"leaf\"\n",
    "        y_pred = np.array([root.predict(x) for x in data])\n",
    "        new_score = accuracy_score(y_pred, labels)\n",
    "        if new_score>old_score:\n",
    "            self.dict.clear()\n",
    "        else:\n",
    "            self.node = \"root\"\n",
    "        return\n",
    "        \n",
    "    \n",
    "    def predict(self,x):\n",
    "        if self.clue == None:\n",
    "            return self.type\n",
    "        if self.node==\"leaf\" or not self.dict.get(x[self.clue]):\n",
    "            return self.type\n",
    "        else:\n",
    "            return self.dict[x[self.clue]].predict(x)\n",
    "        \n",
    "    def __str__(self):#嵌套打印该树\n",
    "        if self.node==\"leaf\":\n",
    "            return str(self.type)\n",
    "        return \"Attr\"+columns[self.clue]+str(self.dict)\n",
    "    \n",
    "    def __repr__(self):#嵌套打印该树\n",
    "        if self.node==\"leaf\":\n",
    "            return str(self.type)\n",
    "        return columns[self.clue]+str(self.dict)"
   ]
  },
  {
   "cell_type": "code",
   "execution_count": 5,
   "metadata": {
    "ExecuteTime": {
     "end_time": "2020-04-18T16:32:57.018607Z",
     "start_time": "2020-04-18T16:32:56.998554Z"
    }
   },
   "outputs": [],
   "source": [
    "X_train_,X_val,y_train_,y_val = train_test_split(\n",
    "    X_train,y_train,train_size=0.8)\n",
    "# 我们额外设置验证集，辅助剪枝\n",
    "m = X_train_.shape[1]\n",
    "\n",
    "tree = TreeNode()\n",
    "Attribution = [i for i in range(m)]\n",
    "tree.grow(X_train_,y_train_,Attribution,0.5)\n",
    "tree.prune(tree, X_val, y_val)"
   ]
  },
  {
   "cell_type": "code",
   "execution_count": 6,
   "metadata": {
    "ExecuteTime": {
     "end_time": "2020-04-18T16:32:57.703049Z",
     "start_time": "2020-04-18T16:32:57.698064Z"
    }
   },
   "outputs": [
    {
     "data": {
      "text/plain": [
       "odor{'f': p, 'n': stalk-shape{'t': e, 'e': spore-print-color{'b': e, 'w': gill-size{'b': e, 'n': stalk-root{'?': p, 'b': e}}, 'r': p, 'y': e, 'o': e, 'k': e, 'n': e}}, 'p': p, 'y': p, 'c': p, 'l': e, 'a': e, 's': p}"
      ]
     },
     "execution_count": 6,
     "metadata": {},
     "output_type": "execute_result"
    }
   ],
   "source": [
    "tree"
   ]
  },
  {
   "cell_type": "code",
   "execution_count": 7,
   "metadata": {
    "ExecuteTime": {
     "end_time": "2020-04-18T16:32:58.934126Z",
     "start_time": "2020-04-18T16:32:58.907080Z"
    }
   },
   "outputs": [
    {
     "data": {
      "text/plain": [
       "0.9932625032391811"
      ]
     },
     "execution_count": 7,
     "metadata": {},
     "output_type": "execute_result"
    }
   ],
   "source": [
    "y_pred = np.array([tree.predict(x) for x in X_test])\n",
    "accuracy_score(y_pred, y_test)\n",
    "\n",
    "# 看起来效果不好，但这是我们用5%的数据训练得到的结果，如果用10%就可以把acc拉满"
   ]
  },
  {
   "cell_type": "markdown",
   "metadata": {},
   "source": [
    "### 随机森林\n",
    "我们希望RF的基学习器既能保有决策树的固有属性，又能增加更多的随机因素。为此，只进行随机采样可能是不够的。我们一般会在此之上进行随机的属性选择，传统决策树在训练时，每一步都会选择最好的划分属性。如果在随机森林中仍然这样做，就会让森林中充斥着相似的树，这并不是我们需要的。我们一般会在寻找最优划分属性之前，从属性集合中寻找一个k个属性的子集，再在其中寻找最优划分属性。这样的随机性不仅能考虑样本扰动，还能考虑属性扰动，这也让随机森林的优点不仅仅是很小的方差，而且它的偏差也会好过单棵的决策树。"
   ]
  },
  {
   "cell_type": "markdown",
   "metadata": {},
   "source": [
    "### 实战\n",
    "这里为了速度，直接用超小规模的数据集，周志华《机器学习》中使用的西瓜数据集。  \n",
    "其中的密度和含糖量都是连续变量，我们直接在整个数据集上，为每一个二分类划分情况计算信息增益，从而找到一个合适的划分点把离散变量二值化。"
   ]
  },
  {
   "cell_type": "code",
   "execution_count": 8,
   "metadata": {
    "ExecuteTime": {
     "end_time": "2020-04-18T16:33:03.195395Z",
     "start_time": "2020-04-18T16:33:03.159679Z"
    }
   },
   "outputs": [],
   "source": [
    "def divide_conti(data, a, mid):\n",
    "    '''\n",
    "    用mid为中心划分点来分类data的a属性\n",
    "    a: int32, column indice of data\n",
    "    return: 两个indices序列\n",
    "    '''\n",
    "    scale = data[:,a]\n",
    "    left = np.where(scale<mid)\n",
    "    right = np.where(scale>mid)\n",
    "    return left,right\n",
    "\n",
    "\n",
    "def Gain_ratio_conti(data, labels, a, mid):\n",
    "    '''\n",
    "    用mid为中心划分点来分类data的a属性\n",
    "    然后计算这两部分的信息增益\n",
    "    '''\n",
    "    gain = Information_entropy(labels) # 计算IE\n",
    "    total = len(data)\n",
    "    IV = 0.01\n",
    "    left,right = divide_conti(data, a, mid)\n",
    "    for indice in (left,right):\n",
    "        data_cd = data[indice]\n",
    "        labels_cd = labels[indice]\n",
    "        gain -= len(data_cd)/total*Information_entropy(labels_cd)\n",
    "        IV -= len(data_cd)/total * log(len(data_cd)/total,2)\n",
    "    return gain/IV\n",
    "\n",
    "\n",
    "def Get_best_mid(data, labels, a):\n",
    "    '''\n",
    "    为data的a属性寻找最好的划分点\n",
    "    '''\n",
    "    n,m = data.shape\n",
    "    scale = data[:,a].copy()\n",
    "    scale.sort()\n",
    "    waitlist = [0.5*(scale[i]+scale[i+1]) for i in range(n-1)]\n",
    "    gains = np.array([Gain_ratio_conti(data, labels, a, mid) for mid in waitlist])\n",
    "    return waitlist[np.argmax(gains)]"
   ]
  },
  {
   "cell_type": "code",
   "execution_count": 9,
   "metadata": {
    "ExecuteTime": {
     "end_time": "2020-04-18T16:33:03.802424Z",
     "start_time": "2020-04-18T16:33:03.790906Z"
    }
   },
   "outputs": [],
   "source": [
    "dataset = pd.read_csv(\"watermelon.csv\", encoding = \"gb18030\")\n",
    "\n",
    "y=dataset['好瓜']\n",
    "X=dataset.drop('好瓜',axis=1)\n",
    "X=X.drop('编号',axis=1)\n",
    "columns=X.columns\n",
    "# 转numpy\n",
    "X ,y = X.values,y.values\n",
    "n,m = X.shape"
   ]
  },
  {
   "cell_type": "code",
   "execution_count": 10,
   "metadata": {
    "ExecuteTime": {
     "end_time": "2020-04-18T16:33:04.458797Z",
     "start_time": "2020-04-18T16:33:04.445759Z"
    }
   },
   "outputs": [],
   "source": [
    "# 在dataset的第6和第7列，寻找最优划分\n",
    "def conti_to_binary(X_train,y_train,X_test):\n",
    "    mid = Get_best_mid(X_train,y_train,6)\n",
    "    for i in range(len(X_train)):\n",
    "        X_train[i,6] = '轻'if X_train[i,6]<mid else '重'\n",
    "    for i in range(len(X_test)):\n",
    "        X_test[i,6] = '轻'if X_test[i,6]<mid else '重'\n",
    "\n",
    "    mid = Get_best_mid(X_train,y_train,7)\n",
    "    for i in range(len(X_train)):\n",
    "        X_train[i,7] = '不甜'if X_train[i,7]<mid else '甜'\n",
    "    for i in range(len(X_test)):\n",
    "        X_test[i,7] = '不甜'if X_test[i,7]<mid else '甜'"
   ]
  },
  {
   "cell_type": "code",
   "execution_count": 11,
   "metadata": {
    "ExecuteTime": {
     "end_time": "2020-04-18T16:33:05.598728Z",
     "start_time": "2020-04-18T16:33:05.587673Z"
    }
   },
   "outputs": [],
   "source": [
    "def validate(model, iter_num = 100):\n",
    "    s = 0\n",
    "    Attribution = [i for i in range(m)]\n",
    "    for _ in range(iter_num):\n",
    "        X_train,X_test,y_train,y_test = train_test_split(\n",
    "            X,y,train_size=0.7,random_state = 0)\n",
    "        \n",
    "        conti_to_binary(X_train,y_train,X_test)\n",
    "        model.grow(X_train,y_train,Attribution,1)\n",
    "        y_pred = np.array([model.predict(x) for x in X_test])\n",
    "        s += accuracy_score(y_pred, y_test)\n",
    "    return s/iter_num"
   ]
  },
  {
   "cell_type": "code",
   "execution_count": 12,
   "metadata": {
    "ExecuteTime": {
     "end_time": "2020-04-18T16:33:06.752558Z",
     "start_time": "2020-04-18T16:33:06.242220Z"
    }
   },
   "outputs": [
    {
     "data": {
      "text/plain": [
       "0.6183333333333323"
      ]
     },
     "execution_count": 12,
     "metadata": {},
     "output_type": "execute_result"
    }
   ],
   "source": [
    "tree = TreeNode()\n",
    "validate(tree,300)"
   ]
  },
  {
   "cell_type": "code",
   "execution_count": 13,
   "metadata": {
    "ExecuteTime": {
     "end_time": "2020-04-18T16:33:07.708516Z",
     "start_time": "2020-04-18T16:33:07.690970Z"
    }
   },
   "outputs": [],
   "source": [
    "# 让我们看看森林能否比单个树做得更好\n",
    "\n",
    "class RF:\n",
    "    def __init__(self, num_trees = 50, random_rate = 0.5):\n",
    "        self.forest = [TreeNode() for _ in range(num_trees)]\n",
    "        self.rate = random_rate\n",
    "        \n",
    "    def grow(self, data, labels, A,random_rate = None):\n",
    "        for tree in self.forest:\n",
    "            tree.grow(data,labels,A,self.rate)\n",
    "            \n",
    "    def predict(self, x):\n",
    "        dic = {}\n",
    "        for tree in self.forest:\n",
    "            out = tree.predict(x)\n",
    "            if not dic.get(out):\n",
    "                dic[out]=1\n",
    "            else:\n",
    "                dic[out]+=1\n",
    "        return max(dic,key=lambda x:dic[x])"
   ]
  },
  {
   "cell_type": "code",
   "execution_count": 14,
   "metadata": {
    "ExecuteTime": {
     "end_time": "2020-04-18T16:33:30.434788Z",
     "start_time": "2020-04-18T16:33:08.230471Z"
    }
   },
   "outputs": [
    {
     "data": {
      "text/plain": [
       "Text(0,0.5,'Accuracy')"
      ]
     },
     "execution_count": 14,
     "metadata": {},
     "output_type": "execute_result"
    },
    {
     "data": {
      "image/png": "[encoded data removed]",
      "text/plain": [
       "<matplotlib.figure.Figure at 0x1edb927fe80>"
      ]
     },
     "metadata": {
      "needs_background": "light"
     },
     "output_type": "display_data"
    }
   ],
   "source": [
    "num_points = [1+i for i in range(15)]\n",
    "acc_list = []\n",
    "\n",
    "for tree_num in num_points:\n",
    "    rf = RF(tree_num,0.4)\n",
    "    acc_list.append(validate(rf,300))\n",
    "    \n",
    "plt.plot(num_points,acc_list)\n",
    "plt.title(\"Random Forest\")\n",
    "plt.xlabel(\"Num of trees\")\n",
    "plt.ylabel(\"Accuracy\")"
   ]
  },
  {
   "cell_type": "code",
   "execution_count": null,
   "metadata": {},
   "outputs": [],
   "source": []
  }
 ],
 "metadata": {
  "kernelspec": {
   "display_name": "Python 3",
   "language": "python",
   "name": "python3"
  },
  "language_info": {
   "codemirror_mode": {
    "name": "ipython",
    "version": 3
   },
   "file_extension": ".py",
   "mimetype": "text/x-python",
   "name": "python",
   "nbconvert_exporter": "python",
   "pygments_lexer": "ipython3",
   "version": "3.6.4"
  }
 },
 "nbformat": 4,
 "nbformat_minor": 2
}
