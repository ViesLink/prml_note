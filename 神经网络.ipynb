{
 "cells": [
  {
   "cell_type": "code",
   "execution_count": 1,
   "metadata": {
    "ExecuteTime": {
     "end_time": "2020-04-14T12:20:15.298440Z",
     "start_time": "2020-04-14T12:20:14.635278Z"
    }
   },
   "outputs": [],
   "source": [
    "import numpy as np\n",
    "import matplotlib.pyplot as plt\n",
    "import matplotlib\n",
    "from sklearn.metrics import accuracy_score\n",
    "from sklearn.model_selection import train_test_split\n",
    "from sklearn.preprocessing import StandardScaler\n",
    "from sklearn.preprocessing import MinMaxScaler\n",
    "from sklearn import datasets"
   ]
  },
  {
   "cell_type": "markdown",
   "metadata": {},
   "source": [
    "### 神经网络\n",
    "神经网络今天已经火的一塌糊涂了，因为深度学习的强大能力，机器学习成功地走出了数据科学领域，实现了图像识别、语音识别和NLP自然语言处理的各种重大突破。今天的CNN、RNN、AE、GAN甚至transformer，几乎都是基于最简单的神经网络NN前馈神经网络的。前馈神经网络使用感知机阵列搭建网络的层，把层与层级联起来，中间使用非线性的激活函数，就可以构造神经网络。神经网络有着非常好的数学优化性质，我们认为只要网络规模够大，神经网络可以拟合逼近任何函数。在此之上，如果我们使用一些其他的技巧，神经网络也能被当成一种概率模型，来逼近条件概率分布。\n",
    "因为NN可以感知学习我们想要的任何信息，它可以在各种领域发光发热。以至于只要我们面临一个连续域的问题，都可以试一试用NN去逼近它。  \n",
    "感知机的计算是x.w，向量与向量的乘积；对感知机阵列，将有多个x.w，对应多个输出，这个计算过程也可以写成**向量和矩阵的乘积**x.W。其梯度计算相对于感知机并没有什么大的改变，只不过是把向量的w提高到了矩阵的W，标量的y提高到了向量的y。但是X没有变化，矩阵求导的公式也不变。\n",
    "$$ y=XW+b $$\n",
    "$$ \\frac{\\partial L}{\\partial W}=X^T\\frac{\\partial L}{\\partial y}$$\n",
    "$$ \\frac{\\partial L}{\\partial b}=\\frac{\\partial L}{\\partial y}$$\n",
    "常用的非线性激活函数有tanh、sigmoid和relu等，tanh和sigmoid性质相近，因为tanh的数值更大，在很深层的网络里一般使用tanh。而relu一般用于图像识别的神经网络。\n",
    "$$ f(v)=\\frac {1} {1+e^{(-v)}}$$\n",
    "$$ f^{'}(v)=f(v)(1-f(v)) $$\n",
    "这里我们先按照上面说的，实现基础的线性层和激活函数层。但是在此之前，我们还要明确\"反向传播\"的概念。  \n",
    "### 反向传播\n",
    "back prop算法，用于计算神经网络中所有参数的梯度。实际上无非就是链式法则，看上面的W和b的梯度公式，我们计算参数关于loss的梯度时要先知道y关于loss的梯度，这个dL/dy要从后一层获得，因为这个y就是后一层的输入x，所以反向传播就是计算dL/dx。\n",
    "$$\n",
    "\\frac{\\partial L}{\\partial X}=yW^T\n",
    "$$\n",
    "这样就能把误差传播到上一层，也就是反向传播这个名字的来源。如果是CNN、RNN等网络，还有更复杂的反向传播公式，但这里我们不讲。\n",
    "### 神经网络的正则化\n",
    "神经网络的拟合能力极为强大，但与此同时也很容易出现过拟合。前面讲过的正则化技巧也同样可以用在神经网络上。至于实现其实没什么好说的，和感知机一样做就好了。在计算梯度时，我们额外考虑一项L2惩罚\n",
    "$$ \\frac{\\partial L}{\\partial W} \\leftarrow \\lambda W+\\frac{\\partial L}{\\partial W}$$\n",
    "这就相当于我们为每个模型里的参数施加了一个平方惩罚，可以把无关参数压到接近于0，能有效控制过拟合。  \n",
    "### MSGD\n",
    "带动量的梯度下降，每次参数更新不是完全用当前的梯度，而是基于原本的下降方向作出调整。这样可以确定一个比较稳定的下降方向，本质上是共轭梯度法的简化版本。共轭梯度法希望通过方向修正，让所有的下降方向尽可能正交。而如果我们把修正系数设为常数，就是MSGD算法。\n",
    "$$ d \\leftarrow \\beta d+(1-\\beta)\\alpha\\frac{\\partial L}{\\partial W}$$"
   ]
  },
  {
   "cell_type": "code",
   "execution_count": 2,
   "metadata": {
    "ExecuteTime": {
     "end_time": "2020-04-14T12:20:16.015526Z",
     "start_time": "2020-04-14T12:20:15.895710Z"
    }
   },
   "outputs": [],
   "source": [
    "class Sigmoid:\n",
    "    def __init__(self):\n",
    "        self.out = None\n",
    "        \n",
    "    def forward(self, x):\n",
    "        self.out = 1/(1+np.exp(-x))\n",
    "        return self.out\n",
    "    \n",
    "    def backward(self, dz):\n",
    "        return dz*self.out*(1-self.out)\n",
    "    \n",
    "\n",
    "class Linear:\n",
    "    def __init__(self,input_sz,output_sz, LEARNING_RATE=0.01,\n",
    "                 LAMBDA = 0, momentum = 0.9):\n",
    "        self.W = np.random.randn(input_sz,output_sz)*0.02\n",
    "        self.b  = np.random.randn(output_sz)*0.01\n",
    "        \n",
    "        self.dW = np.zeros_like(self.W)\n",
    "        self.db = np.zeros_like(self.b)\n",
    "        \n",
    "        self.lr = LEARNING_RATE\n",
    "        self.lamda = LAMBDA\n",
    "        self.momentum = momentum\n",
    "        \n",
    "        self.X = None\n",
    "        \n",
    "    def forward(self,X):\n",
    "        self.X = X\n",
    "        out =  np.dot(self.X,self.W)+self.b\n",
    "        return out\n",
    "    \n",
    "    def backward(self,dz):\n",
    "        \"\"\"\n",
    "        dz-- 前面的导数\n",
    "        基于反向传播的dz和动量、学习率，更新W和b\n",
    "        \"\"\"\n",
    "        n,m = self.X.shape\n",
    "        \n",
    "        self.dW, self.db = self.dW*self.momentum, self.db*self.momentum\n",
    "        dw = np.dot(self.X.T,dz)/n\n",
    "        dw += self.lamda*self.W\n",
    "        self.dW += self.lr*dw*(1-self.momentum)\n",
    "        \n",
    "        db = np.mean(dz, axis = 0)\n",
    "        self.db += self.lr*db*(1-self.momentum)\n",
    "        dx = np.dot(dz,self.W.T)\n",
    "        \n",
    "        return dx\n",
    "    \n",
    "    def update(self):\n",
    "        #更新W和b\n",
    "        self.W = self.W-self.dW\n",
    "        self.b = self.b-self.db\n",
    "        return"
   ]
  },
  {
   "cell_type": "code",
   "execution_count": 3,
   "metadata": {
    "ExecuteTime": {
     "end_time": "2020-04-14T12:20:16.483555Z",
     "start_time": "2020-04-14T12:20:16.478039Z"
    }
   },
   "outputs": [],
   "source": [
    "def sequential_forward(layers, x):\n",
    "    for layer in layers:\n",
    "        x = layer.forward(x)\n",
    "    return x\n",
    "\n",
    "def sequential_backward(layers, dz):\n",
    "    for layer in layers[::-1]:\n",
    "        dz = layer.backward(dz)\n",
    "    return dz"
   ]
  },
  {
   "cell_type": "markdown",
   "metadata": {},
   "source": [
    "我们来搭建一个神经网络，拟合之前用多项式和线性回归做过的波士顿房价预测问题"
   ]
  },
  {
   "cell_type": "code",
   "execution_count": 4,
   "metadata": {
    "ExecuteTime": {
     "end_time": "2020-04-14T12:20:17.537226Z",
     "start_time": "2020-04-14T12:20:17.485006Z"
    }
   },
   "outputs": [],
   "source": [
    "class NN:    \n",
    "    def __init__(self, LEARNING_RATE=0.01,LAMBDA = 0, MOMENTUM = 0.9):\n",
    "        lr = LEARNING_RATE\n",
    "        lmd = LAMBDA\n",
    "        mom = MOMENTUM\n",
    "        # 输入:13维特征\n",
    "        self.layers = [\n",
    "            Linear(13,20,lr,lmd,mom),\n",
    "            Sigmoid(),\n",
    "            Linear(20,20,lr,lmd,mom),\n",
    "            Sigmoid(),\n",
    "            Linear(20,1,lr,lmd,mom)\n",
    "        ]\n",
    "        # 输出:1维标量\n",
    "\n",
    "    def forward(self, X):\n",
    "        X = sequential_forward(self.layers, X)\n",
    "        self.out = X\n",
    "        return X\n",
    "\n",
    "    def backward(self,y):\n",
    "        # 使用均方误差\n",
    "        dz = self.out-y\n",
    "        self.loss = np.mean((dz)**2)\n",
    "        dz = sequential_backward(self.layers, dz)\n",
    "        return dz\n",
    "\n",
    "    def update(self):\n",
    "        for layer in self.layers:\n",
    "            if type(layer)==Linear:\n",
    "                layer.update()\n",
    "                \n",
    "    def fit(self, X, y, epochs, batch_sz):\n",
    "        n,m = X.shape\n",
    "        for epoch in range(epochs):\n",
    "            for i in range(0,n,batch_sz):\n",
    "                inputs = X_train[i:i+batch_sz]\n",
    "                labels = y_train[i:i+batch_sz]\n",
    "                model.forward(inputs)\n",
    "                model.backward(labels)\n",
    "                model.update()\n",
    "        return"
   ]
  },
  {
   "cell_type": "code",
   "execution_count": 5,
   "metadata": {
    "ExecuteTime": {
     "end_time": "2020-04-14T12:20:18.112188Z",
     "start_time": "2020-04-14T12:20:18.094114Z"
    }
   },
   "outputs": [],
   "source": [
    "X,y = datasets.load_boston(return_X_y=True)\n",
    "\n",
    "X_train, X_test, y_train, y_test = train_test_split( X, y, test_size = 0.2, random_state = 0)\n",
    "\n",
    "y_train = y_train.reshape(-1,1)\n",
    "y_test = y_test.reshape(-1,1)\n",
    "\n",
    "#数据标准化处理\n",
    "sc_X = StandardScaler()\n",
    "X_train = sc_X.fit_transform(X_train)\n",
    "X_test = sc_X.transform(X_test)"
   ]
  },
  {
   "cell_type": "code",
   "execution_count": 6,
   "metadata": {
    "ExecuteTime": {
     "end_time": "2020-04-14T12:20:20.503474Z",
     "start_time": "2020-04-14T12:20:19.373886Z"
    }
   },
   "outputs": [],
   "source": [
    "model = NN()\n",
    "model.fit(X_train,y_train,500,32)"
   ]
  },
  {
   "cell_type": "code",
   "execution_count": 7,
   "metadata": {
    "ExecuteTime": {
     "end_time": "2020-04-14T12:20:21.432766Z",
     "start_time": "2020-04-14T12:20:21.421733Z"
    }
   },
   "outputs": [
    {
     "name": "stdout",
     "output_type": "stream",
     "text": [
      "L1 loss on training set: 1.53\n",
      "L1 loss on testing set: 2.83\n"
     ]
    }
   ],
   "source": [
    "# 计算训练集和测试集的L1 loss\n",
    "loss = np.mean(np.abs((model.forward(X_train)-y_train)))\n",
    "print(\"L1 loss on training set: %.2f\"%loss)\n",
    "loss = np.mean(np.abs((model.forward(X_test)-y_test)))\n",
    "print(\"L1 loss on testing set: %.2f\"%loss)"
   ]
  },
  {
   "cell_type": "code",
   "execution_count": 9,
   "metadata": {
    "ExecuteTime": {
     "end_time": "2020-04-14T12:21:07.320647Z",
     "start_time": "2020-04-14T12:20:54.437836Z"
    }
   },
   "outputs": [
    {
     "data": {
      "text/plain": [
       "<matplotlib.legend.Legend at 0x1e61eef7390>"
      ]
     },
     "execution_count": 9,
     "metadata": {},
     "output_type": "execute_result"
    },
    {
     "data": {
      "image/png": "[encoded data removed]",
      "text/plain": [
       "<matplotlib.figure.Figure at 0x1e61c6f8e80>"
      ]
     },
     "metadata": {
      "needs_background": "light"
     },
     "output_type": "display_data"
    }
   ],
   "source": [
    "# 我们也可以尝试不同的lambda进行正则化，防止网络过拟合\n",
    "train_loss = []\n",
    "test_loss = []\n",
    "lamda_list = [0.0005*2**i for i in range(10)]\n",
    "\n",
    "for lamda in lamda_list:\n",
    "    model = NN(LAMBDA = lamda)\n",
    "    model.fit(X_train,y_train,500,32)\n",
    "    \n",
    "    #计算训练集和测试集上的L1误差\n",
    "    loss = np.mean(np.abs((model.forward(X_train)-y_train)))\n",
    "    train_loss.append(loss)\n",
    "    loss = np.mean(np.abs((model.forward(X_test)-y_test)))\n",
    "    test_loss.append(loss)\n",
    "\n",
    "plt.plot(train_loss,label='training loss')\n",
    "plt.plot(test_loss,label='testing loss')\n",
    "plt.title('Boston house prize regression by nn')\n",
    "plt.ylabel('L1 loss')\n",
    "plt.xlabel('power of lambda')\n",
    "plt.legend()"
   ]
  },
  {
   "cell_type": "markdown",
   "metadata": {},
   "source": [
    "### 神经网络的分类问题\n",
    "之前我们学习线性模型时，一般会构造多个判别器来实现多分类，但是神经网络有着更好的做法。我们知道神经网络允许多输出，那么能不能让神经网络直接输出每个类别的概率呢？答案是可以，为此我们要引入一个特殊的软化概率函数，以及BCEloss的原型，Cross Entropy Loss。  \n",
    "softmax是有限项离散概率分布的梯度对数归一化，也被称为归一化指数函数。softmax的计算如下$$ \\sigma(z)_j = \\frac{e^{z_j}}{\\sum_{i=1}^N e^{z_i}} $$\n",
    "函数的输入是从K个不同的线性函数得到的结果，而样本向量 x 属于第 j 个分类的概率为softmax的输出。它相当于让神经网络输出了一个离散条件概率分布\n",
    "$$ p(z\\quad|X,W) $$\n",
    "即给定输入X和模型参数W下分类为z的概率，而我们在分类问题中希望优化的目标是:让训练集的真实条件概率分布和模型输出的概率分布尽可能相同。我们知道评估概率分布差异的方法是KL散度，而最优化KL散度的过程又可以简化为优化Cross Entropy的过程。离散概率分布的交叉熵写做\n",
    "$$  L(W) = -\\frac{1}{N}\\sum_{i=1}^{N}log(p(z_i)) $$\n",
    "它是模型接收第i个训练集后，我们预期的正确分类的概率的负对数的加和。我们假设训练集是从p(x)的真实采样，则此方法获得的是真实交叉熵的蒙特卡洛估计。把softmax的输出代入，可以计算单个样本输入时，L(W)的导数。\n",
    "$$  L(W) = -log(\\frac{e^{z_j}}{\\sum_{i=1}^N e^{z_i}}) $$\n",
    "计算Loss关于各z_i输入的偏导数，要分为i=j和i!=j讨论\n",
    "$$ \\frac{\\partial{L}}{\\partial{z_i}} = \\frac{e^{z_i}}{\\sum_{k=1}^N e^{z_k}} \\quad \\quad (i\\neq j) $$\n",
    "$$ \\frac{\\partial{L}}{\\partial{z_i}} = \\frac{e^{z_i}-\\sum_{k=1}^N e^{z_k}}{\\sum_{k=1}^N e^{z_k}}=\\frac{e^{z_i}}{\\sum_{k=1}^N e^{z_k}}-1 \\quad \\quad (i = j) $$\n",
    "如果把标签写成one hot的向量，即正确标签为1，错误标签为0，就能给出非常简单的向量梯度形式\n",
    "$$ \\frac{\\partial{L}}{\\partial{z}} = z-labels $$\n",
    "我们实现一个softmax层，然后就可以搭建能完成多分类任务的神经网络了。"
   ]
  },
  {
   "cell_type": "code",
   "execution_count": 10,
   "metadata": {
    "ExecuteTime": {
     "end_time": "2020-04-14T12:21:18.603236Z",
     "start_time": "2020-04-14T12:21:18.570166Z"
    }
   },
   "outputs": [],
   "source": [
    "def cross_entropy_error(labels,logits):\n",
    "    return np.mean(-np.sum(labels*np.log(logits),axis=1))\n",
    "\n",
    "def softmax(input_X):\n",
    "    n,m = input_X.shape\n",
    "    exp_a = np.exp(input_X)\n",
    "    sum_exp_a = np.sum(exp_a,axis=1)\n",
    "    sum_exp_a = np.tile(sum_exp_a,(m,1))\n",
    "    sum_exp_a = sum_exp_a.T\n",
    "    ret = exp_a/sum_exp_a\n",
    "    return ret\n",
    "\n",
    "class SoftMax:\n",
    "    '''\n",
    "    softmax，归一化层，把输出转概率\n",
    "    该层的输出代表每一分类的概率\n",
    "    '''\n",
    "    def __init__ (self):\n",
    "        self.y_hat = None\n",
    "        \n",
    "    def forward(self,X):\n",
    "        self.X = X\n",
    "        self.y_hat = softmax(X)\n",
    "        return self.y_hat\n",
    "    \n",
    "    def backward(self,labels):\n",
    "        # 使用cross entropy\n",
    "        dx = (self.y_hat-labels)\n",
    "        return dx"
   ]
  },
  {
   "cell_type": "markdown",
   "metadata": {},
   "source": [
    "我们搭建一个神经网络来分类sklearn提供的手写数字数据集，不用MNIST是因为MNSIT跑起来太慢了。"
   ]
  },
  {
   "cell_type": "code",
   "execution_count": 11,
   "metadata": {
    "ExecuteTime": {
     "end_time": "2020-04-14T12:21:19.637537Z",
     "start_time": "2020-04-14T12:21:19.579806Z"
    }
   },
   "outputs": [],
   "source": [
    "class NN:    \n",
    "    def __init__(self, LEARNING_RATE=0.01,LAMBDA = 0, MOMENTUM = 0.9):\n",
    "        lr = LEARNING_RATE\n",
    "        lmd = LAMBDA\n",
    "        mom = MOMENTUM\n",
    "        # 输入:8x8 = 64维特征\n",
    "        self.layers = [\n",
    "            Linear(64,128,lr,lmd,mom),\n",
    "            Sigmoid(),\n",
    "            Linear(128,64,lr,lmd,mom),\n",
    "            Sigmoid(),\n",
    "            Linear(64,32,lr,lmd,mom),\n",
    "            Sigmoid(),\n",
    "            Linear(32,10,lr,lmd,mom),\n",
    "            SoftMax()\n",
    "        ]\n",
    "        # 输出:10维分类\n",
    "\n",
    "    def forward(self, X):\n",
    "        X = sequential_forward(self.layers, X)\n",
    "        self.out = X\n",
    "        return X\n",
    "\n",
    "    def backward(self,y):\n",
    "        # 使用softmax和交叉熵\n",
    "        self.loss = cross_entropy_error(y,self.out)\n",
    "        dz = y\n",
    "        dz = sequential_backward(self.layers, dz)\n",
    "        return dz\n",
    "\n",
    "    def update(self):\n",
    "        for layer in self.layers:\n",
    "            if type(layer)==Linear:\n",
    "                layer.update()\n",
    "                \n",
    "    def fit(self, X, y, epochs, batch_sz):\n",
    "        n,m = X.shape\n",
    "        for epoch in range(epochs):\n",
    "            for i in range(0,n,batch_sz):\n",
    "                inputs = X_train[i:i+batch_sz]\n",
    "                labels = y_train[i:i+batch_sz]\n",
    "                model.forward(inputs)\n",
    "                model.backward(labels)\n",
    "                model.update()\n",
    "        return"
   ]
  },
  {
   "cell_type": "code",
   "execution_count": 12,
   "metadata": {
    "ExecuteTime": {
     "end_time": "2020-04-14T12:21:20.126989Z",
     "start_time": "2020-04-14T12:21:20.119969Z"
    }
   },
   "outputs": [],
   "source": [
    "def one_hot_encode(labels):\n",
    "    '''\n",
    "    labels:一维数组，返回独热编码后的二维数组\n",
    "    '''\n",
    "    labels = labels.astype(np.int)\n",
    "    n = len(labels)\n",
    "    m = labels.max()+1\n",
    "    ret = np.zeros((n,m))\n",
    "    rows = np.linspace(0,n-1,n).astype(np.int)\n",
    "    ret[rows,labels] = 1\n",
    "    return ret"
   ]
  },
  {
   "cell_type": "code",
   "execution_count": 13,
   "metadata": {
    "ExecuteTime": {
     "end_time": "2020-04-14T12:21:20.682763Z",
     "start_time": "2020-04-14T12:21:20.591037Z"
    }
   },
   "outputs": [],
   "source": [
    "X,y = datasets.load_digits(return_X_y=True)\n",
    "\n",
    "X_train, X_test, y_train, y_test = train_test_split( X, y, test_size = 0.2, random_state = 0)\n",
    "\n",
    "y_train = one_hot_encode(y_train)\n",
    "\n",
    "#处理图片的一般预处理方法是归一化到0-1区间\n",
    "sc_MM = MinMaxScaler()\n",
    "X_train = sc_MM.fit_transform(X_train)\n",
    "X_test = sc_MM.transform(X_test)"
   ]
  },
  {
   "cell_type": "code",
   "execution_count": 15,
   "metadata": {
    "ExecuteTime": {
     "end_time": "2020-04-14T12:21:45.373560Z",
     "start_time": "2020-04-14T12:21:33.985067Z"
    }
   },
   "outputs": [
    {
     "data": {
      "text/plain": [
       "Text(0.5,0,'epoch(25)')"
      ]
     },
     "execution_count": 15,
     "metadata": {},
     "output_type": "execute_result"
    },
    {
     "data": {
      "image/png": "[encoded data removed]",
      "text/plain": [
       "<matplotlib.figure.Figure at 0x1e61ef5a940>"
      ]
     },
     "metadata": {
      "needs_background": "light"
     },
     "output_type": "display_data"
    }
   ],
   "source": [
    "model = NN(LEARNING_RATE=0.5)\n",
    "losses = []\n",
    "for step in range(20):\n",
    "    model.fit(X_train,y_train,25,50)\n",
    "    losses.append(model.loss)\n",
    "plt.plot(losses)\n",
    "plt.title('Digits dataset training curve')\n",
    "plt.ylabel('CE loss')\n",
    "plt.xlabel('epoch(25)')"
   ]
  },
  {
   "cell_type": "code",
   "execution_count": 16,
   "metadata": {
    "ExecuteTime": {
     "end_time": "2020-04-14T12:21:47.264303Z",
     "start_time": "2020-04-14T12:21:47.260809Z"
    }
   },
   "outputs": [],
   "source": [
    "def one_hot_decode(prob):\n",
    "    '''\n",
    "    prob:二维数组，返回标签一维数组\n",
    "    '''\n",
    "    return np.argmax(prob,axis = 1)"
   ]
  },
  {
   "cell_type": "code",
   "execution_count": 17,
   "metadata": {
    "ExecuteTime": {
     "end_time": "2020-04-14T12:21:47.899900Z",
     "start_time": "2020-04-14T12:21:47.892382Z"
    }
   },
   "outputs": [
    {
     "data": {
      "text/plain": [
       "0.9611111111111111"
      ]
     },
     "execution_count": 17,
     "metadata": {},
     "output_type": "execute_result"
    }
   ],
   "source": [
    "y_test_pred = one_hot_decode(model.forward(X_test))\n",
    "accuracy_score(y_test_pred,y_test)"
   ]
  },
  {
   "cell_type": "markdown",
   "metadata": {},
   "source": [
    "### 过拟合\n",
    "神经网络有着非常惊艳的拟合能力，上面我们已经看到了神经网络可以逼近函数和概率分布，实现多种有趣的任务。但是和上面的玩具数据集做出来的结果不同，神经网络在实际问题里非常有可能出现更为严重的过拟合。而除了上面的正则化方法以外，我们还有其他方法控制过拟合。  \n",
    "**Eealy Stop**  \n",
    "一种相当直觉的方法，但是经常能够凑效。我们在训练时用一个验证集辅助训练，一旦训练出现了让测试集loss下降的趋势就立刻停止训练。  \n",
    "**DropOut**  \n",
    "从模型融合中得到启发，做过Kaggle的人应该有经验，在模型和算法已经完善的末期，我们进一步提升正确率的方法就是在模型中引入随机因素，制造很多的模型形成委员会，用这个混合的模型进行任务决策。而神经网络自己本就是一个混合模型，如果我们使用dropout的技巧，即每次训练时，随机临时删除一些 神经元，它们将不在这次运算中发挥作用，同样也不会被更新。这样，一个神经网络就相当于多个小型神经网络的混合模型，这个方法在大型任务重常常很实用。  \n",
    "**更好的数据集**  \n",
    "更多更好的数据是防止过拟合的最好方法，即使没有更多的数据，我们也可以用一些技巧创造数据。这个做法在图像和语音领域尤其适用，我们可以随机对图片进行旋转，平移，加噪声，来获得更多更稳定的数据集。  \n",
    "**reinforcement**\n",
    "强化学习是一种特殊的方法，它基于模型的对抗进行。在对弈和决策问题里，我们可以通过模型对抗的方式让模型自行学习，从而获得超越数据集的成效。最好的例子就是击败人类的alphago。"
   ]
  },
  {
   "cell_type": "code",
   "execution_count": 18,
   "metadata": {
    "ExecuteTime": {
     "end_time": "2020-04-14T12:21:51.065521Z",
     "start_time": "2020-04-14T12:21:51.051483Z"
    }
   },
   "outputs": [],
   "source": [
    "class Dropout:\n",
    "    '''\n",
    "    随机把一些神经元的输出变为0\n",
    "    从而前向和反向传播中，这个神经元将不再发挥作用\n",
    "    '''\n",
    "    def __init__ (self, prob, train = True):\n",
    "        self.p = prob # dropout 的概率\n",
    "        self.train = train # 训练模式，dropout层启用\n",
    "        \n",
    "    def forward(self,X):\n",
    "        if not self.train: return X\n",
    "        self.mask = np.random.rand(len(X))>self.p\n",
    "        X[self.mask] = 0\n",
    "        return X\n",
    "    \n",
    "    def backward(self,dz):\n",
    "        if not self.train: return dz\n",
    "        dz[self.mask] = 0\n",
    "        return dz"
   ]
  },
  {
   "cell_type": "code",
   "execution_count": 19,
   "metadata": {
    "ExecuteTime": {
     "end_time": "2020-04-14T12:21:55.026474Z",
     "start_time": "2020-04-14T12:21:54.935153Z"
    }
   },
   "outputs": [],
   "source": [
    "class NN:    \n",
    "    def __init__(self, LEARNING_RATE=0.01,LAMBDA = 0,\n",
    "                 MOMENTUM = 0.9, DropOut_rate = 0.5):\n",
    "        lr = LEARNING_RATE\n",
    "        lmd = LAMBDA\n",
    "        mom = MOMENTUM\n",
    "        rate = DropOut_rate\n",
    "        # 输入:13维特征\n",
    "        self.layers = [\n",
    "            Linear(13,50,lr,lmd,mom),\n",
    "            Sigmoid(),\n",
    "            Dropout(rate),\n",
    "            Linear(50,50,lr,lmd,mom),\n",
    "            Sigmoid(),\n",
    "            Linear(50,10,lr,lmd,mom),\n",
    "            Sigmoid(),\n",
    "            Linear(10,3,lr,lmd,mom),\n",
    "            SoftMax()\n",
    "        ]\n",
    "        # 输出:10维分类\n",
    "\n",
    "        \n",
    "    def eval(self):\n",
    "        # 计算模式，关闭所有dropout\n",
    "        for layer in self.layers:\n",
    "            if type(layer)==Dropout:\n",
    "                layer.train = False\n",
    "                \n",
    "                \n",
    "    def train(self):\n",
    "        # 训练模式，开启所有dropout\n",
    "        for layer in self.layers:\n",
    "            if type(layer)==Dropout:\n",
    "                layer.train = True\n",
    "        \n",
    "    def forward(self, X):\n",
    "        X = sequential_forward(self.layers, X)\n",
    "        self.out = X\n",
    "        return X\n",
    "\n",
    "    def backward(self,y):\n",
    "        # 使用softmax和交叉熵\n",
    "        self.loss = cross_entropy_error(y,self.out)\n",
    "        dz = y\n",
    "        dz = sequential_backward(self.layers, dz)\n",
    "        return dz\n",
    "\n",
    "    def update(self):\n",
    "        for layer in self.layers:\n",
    "            if type(layer)==Linear:\n",
    "                layer.update()\n",
    "                \n",
    "    def fit(self, X, y, epochs, batch_sz):\n",
    "        n,m = X.shape\n",
    "        for epoch in range(epochs):\n",
    "            for i in range(0,n,batch_sz):\n",
    "                inputs = X_train[i:i+batch_sz]\n",
    "                labels = y_train[i:i+batch_sz]\n",
    "                model.forward(inputs)\n",
    "                model.backward(labels)\n",
    "                model.update()\n",
    "        return"
   ]
  },
  {
   "cell_type": "code",
   "execution_count": 20,
   "metadata": {
    "ExecuteTime": {
     "end_time": "2020-04-14T12:21:57.457966Z",
     "start_time": "2020-04-14T12:21:57.445464Z"
    }
   },
   "outputs": [],
   "source": [
    "X,y = datasets.load_wine(return_X_y=True)\n",
    "\n",
    "# 我们设置较高的test_size来观察过拟合的发生\n",
    "X_train, X_test, y_train, y_test = train_test_split( X, y, test_size = 0.4, random_state = 0)\n",
    "\n",
    "y_train = one_hot_encode(y_train)\n",
    "\n",
    "#数据标准化处理\n",
    "sc_X = StandardScaler()\n",
    "X_train = sc_X.fit_transform(X_train)\n",
    "X_test = sc_X.transform(X_test)"
   ]
  },
  {
   "cell_type": "code",
   "execution_count": 21,
   "metadata": {
    "ExecuteTime": {
     "end_time": "2020-04-14T12:22:01.088308Z",
     "start_time": "2020-04-14T12:21:58.469789Z"
    }
   },
   "outputs": [],
   "source": [
    "model = NN(LEARNING_RATE=0.5,DropOut_rate=0.5)\n",
    "model.train()\n",
    "model.fit(X_train,y_train,1000,20)"
   ]
  },
  {
   "cell_type": "code",
   "execution_count": 22,
   "metadata": {
    "ExecuteTime": {
     "end_time": "2020-04-14T12:22:02.312004Z",
     "start_time": "2020-04-14T12:22:02.306518Z"
    }
   },
   "outputs": [
    {
     "data": {
      "text/plain": [
       "0.9583333333333334"
      ]
     },
     "execution_count": 22,
     "metadata": {},
     "output_type": "execute_result"
    }
   ],
   "source": [
    "model.eval()\n",
    "y_test_pred = one_hot_decode(model.forward(X_test))\n",
    "accuracy_score(y_test_pred,y_test)"
   ]
  },
  {
   "cell_type": "markdown",
   "metadata": {},
   "source": [
    "### 神经网络优化遇到的问题\n",
    "**局部最优**  \n",
    "我们一直避而不谈的一个问题是，为什么神经网络能用SGD train到全局最优？前面学习逻辑回归时，梯度下降能把loss优化到最优，是因为不论是MSE误差，还是BCE误差，它们在逻辑回归的模型上都是凸优化，所以我们必然能用梯度下降找到最优解。但神经网络不同，我们并不知道它是不是凸优化啊？  \n",
    "事实上也和我们的直觉相同，神经网络不是凸优化，而且我们也很难去找到一个全局最优。一个相当反直觉的现实是，我们连局部最优都很难找到。优化理论告诉我们，一个函数上的某点如果是局部最优，那么它的Hessian矩阵是正定的。正定的矩阵要求所有矩阵特征值都是正的，而在一个大型网络里，对成千上万的参数所在的高维空间，计算出的H矩阵将会非常巨大，特征值也非常多。而想找到一个点让所有特征值都是正的极为困难，也就是，在参数空间内，我们几乎不可能触摸到局部最优，这也就让所谓被\"局部最优\"卡住，找不到全局最优的事情几乎不可能发生。  \n",
    "**鞍点**   \n",
    "换句话来说，我们训练神经网络时面对的问题并不是被局部最优限制，而是被一般的0梯度点，即鞍点限制。而幸运的是，鞍点并不具备局部最小点的那种强大的吸引力，在随机梯度下降和随机初始化下生成的网络，虽然会经过鞍点，但在连续的梯度下降优化下，都会跳出鞍点。而牛顿法之所以无法在神经网络优化中取得比较好的效果，就是因为它会落入鞍点。  \n",
    "**高原**  \n",
    "还有一些在使用sigmoid和tanh时我们不会遇到的问题，如果我们使用relu作为激活函数，则loss的空间很有可能出现大片的，平坦的区域。在这些区域上梯度完全为0，优化无法继续进行。一种解决方案是使用leaky relu，使用更好的参数初始化策略，和更好的梯度学习算法。  \n",
    "**梯度爆炸与消失**  \n",
    "在深层的计算图中，梯度很可能随着反向传播衰减，以至于梯度很快为接近于0.这一点在深度的卷积网络和RNN中经常出现，CNN解决这个问题的方法是把上层的神经元直接和几层后的神经元连接，允许梯度跨层传播，抑制梯度的消失。RNN中因为计算图要随着序列长度变化，梯度还很容易变得陡峭，RNN解决这个问题的方法是使用更柔和的LSTM。  \n",
    "**我们想要的**  \n",
    "回顾一下我们上面做的事情，我们想要的不是神经网络能完美拟合训练集，而是具有最好的泛化能力。所以我们才用了那么多的方法防止过拟合，这也说明了，找不到一个全局最优其实一点都不重要，全局最优一般对应着较差的泛化能力，我们真正的训练，很多时候都是\"什么都没有做到\"就停止训练了，但这并不重要。"
   ]
  },
  {
   "cell_type": "code",
   "execution_count": null,
   "metadata": {},
   "outputs": [],
   "source": []
  }
 ],
 "metadata": {
  "kernelspec": {
   "display_name": "Python 3",
   "language": "python",
   "name": "python3"
  },
  "language_info": {
   "codemirror_mode": {
    "name": "ipython",
    "version": 3
   },
   "file_extension": ".py",
   "mimetype": "text/x-python",
   "name": "python",
   "nbconvert_exporter": "python",
   "pygments_lexer": "ipython3",
   "version": "3.6.4"
  }
 },
 "nbformat": 4,
 "nbformat_minor": 2
}
